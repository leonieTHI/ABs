{
 "cells": [
  {
   "cell_type": "markdown",
   "metadata": {},
   "source": [
    "---"
   ]
  },
  {
   "cell_type": "markdown",
   "metadata": {},
   "source": [
    "[//]: # \"Header\"\n",
    "\n",
    "<p style=\"text-align: left;  font-size:18pt; LINE-HEIGHT:30px;\">\n",
    "    <span style=\"float: left\">\n",
    "     Technische Hochschule Ingolstadt<br>\n",
    "     Prof. Dr. Sören Gröttrup\n",
    "    </span>\n",
    "    <span style=\"float: right;\">\n",
    "       Machine Learning 1<br>\n",
    "        <span style=\"float: right;\">WS 23/24</span>\n",
    "    </span>\n",
    "</p>"
   ]
  },
  {
   "cell_type": "markdown",
   "metadata": {},
   "source": [
    "[//]: # \"Header Aufgabenblatt\"\n",
    "<br>\n",
    "<p style=\"text-align: center;  font-size:18pt; LINE-HEIGHT:30px;\">\n",
    "     <span style=\"font-weight: bold;\">Aufgabenblatt 0</span><br>\n",
    "     Themen: Wiederholung mathematischer und statistischer Grundlagen, Programmieren mit Python<br>\n",
    "     Abgabetermin: Keine Abgabe nötig\n",
    "     \n",
    "</p>\n"
   ]
  },
  {
   "cell_type": "markdown",
   "metadata": {},
   "source": [
    "---"
   ]
  },
  {
   "cell_type": "markdown",
   "metadata": {},
   "source": [
    "# 1. Mathematik und Statistik\n",
    "Dieser Abschnitt bient der Wiederholung einiger benötigter mathematischer und statistischer Grundlagen."
   ]
  },
  {
   "cell_type": "markdown",
   "metadata": {},
   "source": [
    "## Aufgabe 1.1 (Regression)\n",
    "Ein Unternehmer möchte die gesamten Herstellungskosten (y)  eines Produktionsprozesses in Abhängigkeit der montlichen Produktionsmengen (𝑥) schätzen. Als Grundlage nimmt er dafür die Daten der letzten 6 Monate.\n",
    "\n",
    "|Monat|1|2|3|4|5|6|\n",
    "|---|---|---|---|---|---|---|\n",
    "|Produktionsmenge $x$ (in 1.000)|1.2|1.8|2.5|4.5|4|3|\n",
    "|Gesamtkosten $y$ (in 1.000)|24|27.5|28.5|29|30|26|\n",
    "\n",
    "\n",
    "\n",
    "1. Geben Sie die mathematische Definition des arithmetischen Mittels und der Varianz eines Datenvektors $x=(x_1,...,x_n)$ an.\n",
    "$$\\bar{x}=... \\ \\ \\text{und}\\ \\ Var(x)=... $$\n",
    "2. Bestimmen Sie Mittelwert und Varianz der beiden Variablen $x$ und $y$.\n",
    "3. Berechnen Sie die Kovarianz und Korrelationskoeffizienten von $x$ und $y$. Besteht ein linearer Zusammenhang?\n",
    "4. Wiederholen Sie die in Statistik kennengelernte Lineare Regression und die Lösung der kleinsten Quadrate. Berechnen Sie die Regressionsgerade $f(x)$, die die Gesamtkosten $y$ in Abhängigkeit von $x$ darstellt.\n",
    "$$f(x) = ax + b$$\n",
    "mit\n",
    "$$a=...\\ \\ \\text{und}\\ \\ b=... $$\n",
    "5. Berechnen Sie das Bestimmtheitsmaß $R^2$. Welcher Zusammenhang besteht zum Korrelationskoeffizienten?"
   ]
  },
  {
   "cell_type": "markdown",
   "metadata": {},
   "source": [
    "## Aufgabe 1.2 (bedingte Wahrscheinlichkeiten)\n",
    "\n",
    "1. Seien $A, B \\subseteq \\Omega$ zwei Ereignisse. Was bedeutet der Term $P(A|B)$? Geben Sie die Definition der bedingten Wahrscheinlichkeit an.\n",
    "1. Wie lautet der Satz der **Totalen Wahrscheinlichkeit** und die **Formel von Bayes**?\n",
    "1. In einer großen Studie wurde ein Medikament auf seine Wirksamkeit getestet. Einer Gruppe wurde dabei das Medikament verabreicht und während eine anderen ein Placebo bekam. Die Ergebnisse sind in nachfolgenden Tabelle festgehalten (Notation: $M:$ Medikament genommen; $G:$ Patient genesen).  Hat das getestete Medikament eine Wirkung?\n",
    " \n",
    "| |$M$|$\\bar{M}$|\n",
    "|---|---|---|\n",
    "|$G$|6312|4390|\n",
    "|$\\bar G$|312|87| \n",
    " \n",
    "4. Bei einer Sportveranstaltung wird ein Dopingtest durchgeführt. Wenn ein Sportler gedopt hat, dann fällt der Test zu 99% positiv aus. Hat ein Sportler aber nicht gedopt, zeigt der Test trotzdem zu 5% ein positives Ergebnis an. Aus Erfahrung weiß man das 20% der Sportler gedopt sind. Wie groß ist die Wahrscheinlichkeit, dass ein Sportler gedopt hat, wenn seine Dopingprobe negativ ausgefallen ist?"
   ]
  },
  {
   "cell_type": "markdown",
   "metadata": {},
   "source": [
    "## Aufgabe 1.3 (Matrikmultiplikation)\n",
    "Ein Automobilzulieferer hat vier Produktionsstätten $P_1, P_2, P_3, P_4$ und liefert diese an 3 unterschiedliche Automobilhersteller $A_1, A_2, A_3$. Die pro Tag an die Unternehmen gelieferte Stückzahl ist in der Tabelle angegeben\n",
    "\n",
    "| |$G_1$|$G_2$|$G_3$|$G_4$|\n",
    "|---|---|---|---|---|\n",
    "|$H_1$|20|10|50|30|\n",
    "|$H_2$| 15|10 |20 |30|\n",
    "|$H_3$| 20|40 |10 |20|\n",
    "\n",
    "Sei $M$ die matrix zu dieser Tabelle.\n",
    "1. Bestimmen und interpretieren Sie die folgende Größe\n",
    "$$M*\\left(\\begin{array}{c}1\\\\\\ 1\\\\\\ 1\\\\\\ 1\\end{array}\\right)$$\n",
    "2. Bestimmen und interpretieren Sie die folgende Größe\n",
    "$$\\left(1, 1, 1\\right)*M$$\n",
    "3. Bestimmen und interpretieren Sie die folgende Größe\n",
    "$$\\left(1, 1, 1\\right)*M*\\left(\\begin{array}{c}1\\\\\\ 1\\\\\\ 1\\\\\\ 1\\end{array}\\right)$$\n",
    "4. Die Kosten für die Herstellung eines Stücks belaufen sich pro Tag auf EUR 300 in $P_1$, EUR 400 in $P_2$, EUR 200 in $P_3$ und EUR 250 in $P_4$. Sei $k$ der Verktor der Kosten. Bestimmen und interpretieren Sie die folgende Größe\n",
    "$$M*k$$"
   ]
  },
  {
   "cell_type": "markdown",
   "metadata": {},
   "source": [
    "## Aufgabe 1.4 (Differentialrechnung)\n",
    "Bestimmen Sie die ersten Ableitungen der folgenden Funktionen:\n",
    "1. $f_1(x) = sin(x) * cos(x)$\n",
    "1. $f_2(x) = e^x * ln(x)$\n",
    "1. $f_3(x) = 4x * sin(x)$\n",
    "1. $g_1(x) = \\arctan(e^{4x})$\n",
    "1. $g_2(x) = \\frac{x + 3}{x^2 + 1}$\n",
    "1. $g_3(x) = tan(x)$\n",
    "1. $h_1(x) = ln(1+e^{x})$\n",
    "1. $h_2(x) = \\frac{1}{1+e^{-x}}$\n",
    "1. $h_3(x) = \\tanh(x)=\\frac{e^x-e^{-x}}{e^x+e^{-x}}$"
   ]
  },
  {
   "cell_type": "markdown",
   "metadata": {},
   "source": [
    "# 2. Programmieren mit Python\n",
    "In diesem Abschnitt wird die programmieren mit **[Python](https://www.python.org/)** wiederholt.<br>\n",
    "Bitte installieren Sie dazu die neuste Version von **[Anaconda](https://www.anaconda.com/products/individual)** (oder alternativ: [Python 3](https://www.python.org/) und\n",
    "[Jupyter Notebook](https://jupyter.org/) einzeln)."
   ]
  },
  {
   "cell_type": "markdown",
   "metadata": {},
   "source": [
    "## Aufgaben 2.1 (Datenmanipulation)\n",
    "\n",
    "Für diese Aufgabe importieren Sie die numpy Library (`import numpy as np`)\n",
    "\n",
    "1. Erezugen Sie 100 Zufallszahlen, welche aus dem Intervall [0,1] gleichverteilt gezogen werden und speichern diese in einem numpy-array `rand_uni`.\n",
    "1. Erezugen Sie 100 Zufallszahlen, welche aus einer Normalverteilung mit Erwartungswert 0 und Standardabweichung 1 gezogen werden und speichern diese ebenfalls in einem numpy-array `rand_norm`.\n",
    "1. Berechnen Sie jeweils Summe, Mittelwert und Varianz der beiden arrays.\n",
    "1. Führen Sie die beiden Befehle `rand_mat = np.array([rand_uni, rand_norm])` und `rand_arr = np.append(rand_uni, rand_norm)` aus. Was ist der Unterschied der entstandenen neuen Arrays. Berechnen Sie deren Dimensionen.\n",
    "1. Bestimmen Sie Index und Wert des größten Elements der gemeinsamen arrays.\n",
    "1. Entfernen Sie die 10% größten Werte des gemeinsamen arrays `rand_arr`.\n",
    "1. Teilen Sie das array `rand_arr` am Median der Einträge. Was ist der Mittelwert des jeweiligen Splits?\n",
    "1. Erzeugen Sie ein neues array `a_seq` der Länge 100, welches die Zahlen 1 bis 100 enthält. \n",
    "1. Sortieren Sie das array `rand_norm` aufsteigend und addieren Sie es zum array `a_seq` elementweise.\n",
    "1. Führen Sie folgende Befehle aus `rand_norm * a_seq` und `rand_norm @ a_seq`. Was ist der Unterschied?\n",
    "1. Führen Sie folgenden Code aus `np.zeros(10)` und `np_ones(10)`. Was ist jeweils das Ergebnis?"
   ]
  },
  {
   "cell_type": "code",
   "execution_count": null,
   "metadata": {},
   "outputs": [],
   "source": [
    "### Lösung der Aufgabe 2.1\n",
    "...rand_uni = np.array(1)\n",
    "rand_norm = np.random.rand(100)\n",
    "\n",
    "sum_uni = np.sum(rand_uni) #Summe\n",
    "sum_norm = np.sum(rand_norm) #Summe\n",
    "\n",
    "mean_uni = np.mean(rand_uni) #Mittelwert\n",
    "mean_norm = np.mean(rand_norm) #Mittelwert\n",
    "\n",
    "var_uni = np.var(rand_uni) #Varianz \n",
    "var_norm = np.var(rand_norm) #Varianz\n",
    "\n",
    "rand_mat = np.array([rand_uni, rand_norm])\n",
    "rand_arr = np.append(rand_uni, rand_norm)\n",
    "\n",
    "print(rand_mat)\n",
    "print(rand_arr)"
   ]
  },
  {
   "cell_type": "markdown",
   "metadata": {},
   "source": [
    "## Aufgaben 2.2 (Funktionen)\n",
    "\n",
    "1. Schreiben Sie eine Funktion, die bei Eingabe eines Strings die Anzahl eines jeden Vokale zählt. Die Ausgabe soll dabei ein Dictionary der folgenden Gestalt sein `{'a': 1, 'e': 1, 'i': 0, 'o': 0, 'u': 0}`. Wenden Sie die Funktion auf folgenden Text an _Machine Learning is awsome!_.\n",
    "1. Schreiben Sie eine Funktion, die bei Eingabe einer Adresse oder Örtlichkeit deren Längen- und Breitengrad zurückgibt. Was sind die Koordinaten der Adresse `350, 5th Avenue, New York`? Was befindet sich dort? <br> _Hinweis:_ Benutzen Sie dafür das Paket `geopy`, welches auf bekannte geocoding web services zugreifen kann. Zum Installieren des pakets führen Sie den folgenden Befehl in der Anaconda Console aus:  `conda install -c conda-forge geopy`. Mit den Befehlen `from geopy.geocoders import Nominatim; geolocator = Nominatim(user_agent=\"https\")` wird der API-Service von OpenStreepMap eingebunden, an den man dann seine Anfragen stellen kann.\n",
    "1. Schreiben Sie jetzt die inverse Funktion zu der aus der vorherigen Aufgabe. D.h., die Funktion soll bei eingabe von Längen- und Breitengrad die Adresse zurückgeben. Was bifindet sich an folgenden Koordinaten `(48.76690685, 11.43351248753228)`?"
   ]
  },
  {
   "cell_type": "code",
   "execution_count": null,
   "metadata": {},
   "outputs": [],
   "source": [
    "### Lösung der Aufgabe 2.2\n",
    "...\n"
   ]
  },
  {
   "cell_type": "markdown",
   "metadata": {},
   "source": [
    "## Aufgaben 2.3 (Datenanalyse)\n",
    "Der Datensatz **Titanic** enthält Passagiere und Crew-Mitglieder der Titanic mit beschreibenden Variablen, neben persönlichen und Ticket-Informationen u.A. auch ob die Person das Titamic-Unglück überlebt hat oder nicht (_Survival: 0 oder 1_). Weitere Informationen zum Datensatz udn den Variablen finden Sie hier: https://www.kaggle.com/c/titanic/data. Ziel der Aufgabe ist die Deskriptive Analyse dieses Datensatzen. \n",
    "\n",
    "1. Lesen Sie den Datensatz von der Webseite der Vanderbilt University (https://biostat.app.vumc.org/wiki/pub/Main/DataSets/titanic3.csv) ein. Benutzen Sie dafür am besten das Paket `pandas` und die Funktion `read_csv`.\n",
    "1. Was sind die Dimensionen des DataFame?\n",
    "1. Wie lauten die Variablennamen (Spaltendanamen) das DataFame?\n",
    "1. Führen Sie `data.info()` und `data.describe()` aus. Was beschreiben die Outputs? Was sind die Unterschiede?\n",
    "1. Wie größ ist der Anteil der Überlebenden? Stellen Sie das Ergebnis in einer geeigneten Grafik dar (z.B. Barplot).\n",
    "1. Wie größ ist der Frauenanteil an Bord der Titanic? Plotten Sie das Verhältnis in einem Piechart.\n",
    "1. Haben Frauen oder Männer eine größere Wahrscheinlichkeit zu überleben? Visualisieren Sie wieder das Ergebnis in einer Grafik.\n",
    "1. Betrachten Sie die variable `age`. Hat diese variable fehlende Werte? Falls ja, entfernen Sie alle Zeilen, die solche Fehlenden Werte haben.\n",
    "1. Bestimmen Sie das Durchschnittsalter sowohl aller Leute an Bord, als auch der Überlebenden und Gestorbenen.\n",
    "1. Stellen Sie die Altersverteilung in einem Histogram dar.\n",
    "1. Die Variable `fare` gibt den bezahlten Fahrpreis an. Generieren Sie einen Scatterplot welcher den fahrpreis zum Alter zeigt. Färben Sie die Punkte nach `survival` ein. Gibt es einen Zusammenhang zwischen dem Ticketpreis und dem Überleben des Unglücks?\n",
    "1. Die Variable `name` enthält die Namen der Passagiere inkl. Titel und Anrede. Erstellen Sie eine neue Variable `salutation`, welche den Titel oder die Anrede eines Passagiers / Crew-Mitglieds enthält.\n",
    "1. Bestimmen Sie den Korrelationskoeffizienten zwischen der Variablen `fare` und `survived`, sowie der variable `pclass` (gebuchte Klasse) und `survived`."
   ]
  },
  {
   "cell_type": "code",
   "execution_count": null,
   "metadata": {},
   "outputs": [],
   "source": [
    "### Lösung der Aufgabe 2.3\n",
    "...\n",
    "\n",
    "import pandas as pd\n",
    "\n",
    "data = pd.read_csv('https://biostat.app.vumc.org/wiki/pub/Main/DataSets/titanic3.csv')\n"
   ]
  }
 ],
 "metadata": {
  "kernelspec": {
   "display_name": "Python 3 (ipykernel)",
   "language": "python",
   "name": "python3"
  },
  "language_info": {
   "codemirror_mode": {
    "name": "ipython",
    "version": 3
   },
   "file_extension": ".py",
   "mimetype": "text/x-python",
   "name": "python",
   "nbconvert_exporter": "python",
   "pygments_lexer": "ipython3",
   "version": "3.9.7"
  }
 },
 "nbformat": 4,
 "nbformat_minor": 4
}
