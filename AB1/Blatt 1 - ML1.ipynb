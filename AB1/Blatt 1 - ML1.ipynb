{
 "cells": [
  {
   "cell_type": "markdown",
   "metadata": {},
   "source": [
    "---"
   ]
  },
  {
   "cell_type": "markdown",
   "metadata": {},
   "source": [
    "[//]: # \"Header\"\n",
    "\n",
    "<p style=\"text-align: left;  font-size:18pt; LINE-HEIGHT:30px;\">\n",
    "    <span style=\"float: left\">\n",
    "     Technische Hochschule Ingolstadt<br>\n",
    "     Prof. Dr. Sören Gröttrup\n",
    "    </span>\n",
    "    <span style=\"float: right;\">\n",
    "       Machine Learning 1<br>\n",
    "        <span style=\"float: right;\">WS 23/24</span>\n",
    "    </span>\n",
    "</p>"
   ]
  },
  {
   "cell_type": "markdown",
   "metadata": {},
   "source": [
    "[//]: # \"Header Aufgabenblatt\"\n",
    "<br>\n",
    "<p style=\"text-align: center;  font-size:18pt; LINE-HEIGHT:30px;\">\n",
    "     <span style=\"font-weight: bold;\">Aufgabenblatt 1</span><br>\n",
    "     Themen: Arten des Machinellen Lernens, Naive Bayes Klassifikator<br>\n",
    "     Abgabetermin: 19.10.2020, 23:59 Uhr<br>\n",
    "     Punkte: 30\n",
    "</p>\n"
   ]
  },
  {
   "cell_type": "markdown",
   "metadata": {},
   "source": [
    "---"
   ]
  },
  {
   "cell_type": "markdown",
   "metadata": {},
   "source": [
    "**Namen:** _Bitte tragen Sie hier die Namen der Abgabegruppe ein._"
   ]
  },
  {
   "cell_type": "markdown",
   "metadata": {},
   "source": [
    "---"
   ]
  },
  {
   "cell_type": "markdown",
   "metadata": {},
   "source": [
    "# 1. Arten des Maschinellen Lernens"
   ]
  },
  {
   "cell_type": "markdown",
   "metadata": {
    "jp-MarkdownHeadingCollapsed": true,
    "tags": []
   },
   "source": [
    "## Aufgabe 1.1 [5 Punkte]\n",
    "Im folgenden sind einige praxisnahe Fragestellungen aufgelistet. Sagen Sie bei jeder der Fragestellungen, welche Art des Maschinellen Lernens (Supervised Learning, Unsipervised Learning, Semi-Supervised Learning, Reinforcement Learning) sich am besten für die Beantwortung eignet. Geben Sie auch ggf. an, ob es sich um ein Klassifikations- oder Regressionsproblem handelt.\n",
    "\n",
    "1. Ein Kreditinstitut möchte ein Modell erstellen, was für Kreditanträge neuer Kunden voraussagt, ob ein Zahlungsausfall wahrscheinlich ist.\n",
    "1. Ein Start-Up möchte eine neue App zur Pflanzenbestimmung entwickeln. Wenn der User ein Foto einer Pflanze hochlädt, kann die App automatisch diese erkennen und Informationen dazu anzeigen.\n",
    "1. Ein Unternehmen möchte seine Kunden besser verstehen, um Produkte und Marketingaktionen  spezifischer auf Kundengruppen zuzuschneiden.\n",
    "1. Für einen Schritt in einem Produktionsprozess liegen die zu verwendeten Teilen durcheinander in einer Box. Ein Roboter soll lernen diese automatisch aus der Box zu nehmen, um sie dann dem Produktionsprozess zuzuführen.\n",
    "1. Staatlichen Institutionen ist sehr daran gelegen, die Entwicklung der Arbeitslosenzahlen zu kennen, um dahingehend Maßnahmen zu ergreifen."
   ]
  },
  {
   "cell_type": "markdown",
   "metadata": {},
   "source": [
    "## Antwort zu Aufgabe 1.1\n",
    "1. ....\n",
    "1. ...."
   ]
  },
  {
   "cell_type": "markdown",
   "metadata": {},
   "source": [
    "# 2. Naive Bayes Klassifikator\n",
    "In diesem Abschnitt wird der Naive Bayes Klassifikator eingeführt und angewendet."
   ]
  },
  {
   "cell_type": "markdown",
   "metadata": {},
   "source": [
    "## 2.1 Der Naive Bayes-Klassifikator\n",
    "Gegeben seien $m$ Features $x_1, ..., x_m$ und eine kategoriale Zielvariable $y\\in\\{1,...,K\\}$. Wir benutzen die Notation $x =(x_1,...,x_m)$ für den Vektor der Feature.\n",
    "\n",
    "Ausgangpunkt ist die Bayes-Formel zur Schätzung der Klassenwahrscheinlichkeiten für $y=c$\n",
    "$$p(y=c|x)=\\frac{p(x|y=c)p(y=c)}{p(x)}$$\n",
    "\n",
    "\n",
    "### Annahmen\n",
    "Beim **Naiven Bayes-Klassifikator** wird, gegeben die Klasse $y=c$, die (stochastische) Unabhängigkeit der Feature angenommen, d.h.\n",
    "$$p(x|y=c)=\\prod_{i=1}^m p(x_i|y=c)$$\n",
    "\n",
    "Für die Verteilung der Features wird (klassischerweise) folgendes angenommen:\n",
    "* $x_i$ ist _numerisch_: Es wird eine Normalverteilung mit Parametern $\\mu_{i,c}$ (Mittelwert) und $\\sigma^2_{i,c}$ (Standardabweichung) angenommen. Diese Parameter sind abhängig von der Klasse $c$! Sprich:\n",
    "$$ x_i|y=c\\ \\sim\\ N(\\mu_{i,c}, \\sigma^2_{i,c}) $$\n",
    "\n",
    "* $x_i$ ist _kategoriell_: Es wird eine kategoriale Verteilung angenommen. D.h. für jede mögliche auftretende Ausprägung wird eine Wahrscheinlichkeit angegeben, \n",
    "$$p(x_i=k)=q_k\\ \\text{ und }\\ \\sum_{k}q_k=1.$$\n",
    "\n",
    "### Schätzer der Parameter\n",
    "Durch die Annahme der Unabhängigkeit ist die Schätzung der Wahrscheinlichkeit $p(x_i|y=c)$ einfach, da wir jetzt nur noch univariate Verteilungen zu Grunde liegen haben.\n",
    "\n",
    "Die Schätzung der Parameter und Wahrscheinlichkeiten erfolgt durch die kanonischen Schätzer. Mathematisch bedeutet dies: Für einen Datensatz $(x^{(1)}, y^{(1)}), ..., (x^{(n)}, y^{(n)})$ der Größe $n$, wobei $x^{(j)}=(x^{(j)}_1,...,x^{(j)}_m)$ und $y^{(j)}\\in\\{1,...,K\\}$ bezeichne $D_c=\\{(x^{(j)}, y^{(j)}) \\in D\\ |\\ y^{(j)}=c\\}$ die Teilmenge der Klasse $c$ in den Trainingsdaten $D$. Dann sind die Schätzer:\n",
    "\n",
    "**Normalverteilung**\n",
    "$$\\mu_{i,c}=\\frac{1}{|D_c|}\\sum_{(x,y)\\in D_c}x_i\\ \\ \\ \\ \\  \\text{(arithmetische Mittel)}$$\n",
    "\n",
    "$$\\sigma^2_{i,c}=\\frac{1}{|D_c|-1}\\sum_{(x,y)\\in D_c}(x_i-\\mu_{i,c})^2\\ \\ \\ \\ \\  \\text{(Stichprobenvarianz)}$$\n",
    "\n",
    "**kategoriale Verteilung**\n",
    "$$p(x_i=k|y=c)=\\frac{|\\{(x,y)\\in D_c\\ |\\ x_i=k\\}|}{|D_c|}\\ \\ \\ \\ \\  \\text{(relative Häufigkeit für das Auftreten von $x_i=k$ unter allen Datenpunkten der Klasse $c$)}$$\n",
    "\n",
    "**A-priori Verteilung**\n",
    "$$p(y=c)=\\frac{|\\{(x,y)\\in D\\ |\\ y_i=c\\}|}{n}\\ \\ \\ \\ \\  \\text{(relative Häufigkeit für das Auftreten von $y=c$)}$$\n",
    "\n",
    "\n",
    "### Finale Prognose des Modells\n",
    "Die geschätzen Wahrscheinlichkeiten werden jetzt in die Bayes-Formel eingesetzt und die Klasse mit der höchsten Wahrscheinlichkeit \"gewinnt\" und ist die Prognose des Naiven Bayes Klassifikators, sprich\n",
    "$$\\hat y = argmax_{c=1,..,K}\\{p(x|y=c)p(y=c)\\}$$\n",
    "\n",
    "\n",
    "### Zusammenfassung der Vorgehensweise des Naiven Bayes-Klassifikators\n",
    "Schritt 1: Berechnung der a-priori Wahrscheinlichkeiten $p(y=c)$ der einzelnen Klassen $c$<br>\n",
    "Schritt 2: Schätze die Wahrscheinlichkeit $p(x_i|y=c)$ für jedes Feature $x_i$ für jede Klasse $c$<br>\n",
    "Schritt 3: Setzte die Werte in die Bayes-Formel ein.<br>\n",
    "Schritt 4: Schaue, welche Klasse $c$ die höchste (a-posteriori) Wahrscheinlichkeit hat und nehme dies als die Prognose des Modells."
   ]
  },
  {
   "cell_type": "markdown",
   "metadata": {},
   "source": [
    "## Aufgabe 2.1 [2 Punkte]\n",
    "Betrachten Sie einen binären Naiven Bayes-Klassifikator (es gibt nur zwei Ausprägungen der Zielvariable) mit normalverteilter Annahme an alle Feature. Geben Sie nachfolgend jeweils an, um welche Art von Algorithmus es sich bei dem Naiven Bayes-Klassifikator handelt. Begründen Sie jeweils kurz Ihre Antwort.\n",
    "1. Generativer Ansatz oder Diskriminativer Ansatz?\n",
    "1. Parametrisches oder Nicht-Parametrisches Modell?\n",
    "\n",
    "**Anmerkung**: Der Naive Bayes Klassifikator in der angegebenen Form gehört zu den linearen Modellen. Dies ist aber nicht sehr einfach zu sehen. Eine Begründung finden Sie in den ergänzenden Materialien in Moodle-Raum."
   ]
  },
  {
   "cell_type": "markdown",
   "metadata": {},
   "source": [
    "## Lösung zu Aufgabe 2.1\n",
    "1. ....\n",
    "1. ...."
   ]
  },
  {
   "cell_type": "markdown",
   "metadata": {},
   "source": [
    "## Aufgabe 2.2 [1 Punkte]\n",
    "Warum wird bei der finalen Prognose der Nenner der Bayes Formel $p(x)$ ignoriert? Geben Sie eine kurze Begründung an."
   ]
  },
  {
   "cell_type": "markdown",
   "metadata": {},
   "source": [
    "## 2.2 Implementierung des Naiven Bayes-Klassifikators in Python\n"
   ]
  },
  {
   "cell_type": "markdown",
   "metadata": {},
   "source": [
    "In diesem Abschnitt soll ein Modell es Naiven Bayes-Klassifikators in Python auf realen Daten erstellt und interpretiert werden. Dies ist in mehrere einzelnen Aufgaben augfeteilt."
   ]
  },
  {
   "cell_type": "markdown",
   "metadata": {},
   "source": [
    "### Daten\n",
    "Der Aufgabe liegen zwei Datensätze `gene_expression_leukemia_short_train.csv` und `gene_expression_leukemia_short_test.csv` bei. Beide Datensätze enthalten Gen-Expressionsdaten von Leukämie-Patienten. Bei der Gen-Expression werden gewisse Stellen der DNA markiert und gemessen in welcher Intensität dieser Abschnitt kopiert wird. Je häufiger ein Abschnitt kopiert wird, desto relevanter ist die genetische Information für die aktuellen Prozesse. Im Falle einer Krankheit (hier Leukämie) sind gewisse Abschnitte hoch oder runter reguliert, so dass gewisse genetische Informationen überproportional häufig oder weniger häufig kopiert werden. Diese Veränderungen sind charakteristisch für die einzelnen Leukämie-Arten.\n",
    "\n",
    "Insgesamt enthalten die Files Gen-Expressionsdaten von 39 Positionen auf der menschlichen DNA mit den Bezeichnungen wie hier angegeben `1563591_at`, `213147_at.1`, ... Zusätzlich gibt es eine Variable `Leukemia`, welche die Leukämie-Art des Patienten angibt:\n",
    "* AML (Akute myeloische Leukämie)                                  \n",
    "* CLL (Chronische lymphatische Leukämie)                                   \n",
    "* ALL (Akute lymphatische Leukämie)                                   \n",
    "* CML (Chronische myeloische Leukämie)                                     \n",
    "* Non-leukemia and healthy bone marrow (Gesund)     \n",
    "\n",
    "Die Daten sind entnommen von www.leukemia-gene-atlas.de einer öffentlich zugänglichen Platform für Leukämieforschung. Für die Aufgabe hier, ist die Dimension des Datensatzes (Anzahl an Positionen auf dem Genom) deutlich reduziert, um die Rechenzeit zu verkürzen."
   ]
  },
  {
   "cell_type": "markdown",
   "metadata": {},
   "source": [
    "### Implementierung"
   ]
  },
  {
   "cell_type": "code",
   "execution_count": 1,
   "metadata": {},
   "outputs": [],
   "source": [
    "## Packages\n",
    "import pandas as pd\n",
    "import numpy as np\n",
    "%matplotlib inline\n",
    "import matplotlib.pyplot as plt\n",
    "plt.style.use('ggplot')"
   ]
  },
  {
   "cell_type": "markdown",
   "metadata": {},
   "source": [
    "## Aufgabe 2.3 [4 Punkte]\n",
    "1. Importieren Sie den Datensatz `gene_expression_leukemia_short_train.csv`.\n",
    "1. Was sind die Dimensionen des Datensatzen?\n",
    "1. Berechnen Sie die Häufigkeiten der einzelnen Leukämiearten im Datensatz. Wie viele Patienten haben eine ALL?\n",
    "1. Plotten sie die Häufigkeiten aus Aufgabenteil 3. in einem Barplot."
   ]
  },
  {
   "cell_type": "code",
   "execution_count": 1,
   "metadata": {},
   "outputs": [],
   "source": [
    "## Lösung der Aufgabe 2.3\n",
    "\n",
    "#### Code here ####\n",
    "\n",
    "# Teil 1"
   ]
  },
  {
   "cell_type": "markdown",
   "metadata": {},
   "source": [
    "## Aufgabe 2.4 [0 Punkte]\n",
    "Bei den Folien des Praktikums im Moodle-Raum finden Sie eine kurze Einführung in die Konfusionsmatrix und Accuracy als erste Evaluationsmetrik für Klassifikatoren. Schauen Sie sich bitte die Folien an und versuchen diesen zu verstehen."
   ]
  },
  {
   "cell_type": "markdown",
   "metadata": {},
   "source": [
    "## Aufgabe 2.5 [6 Punkte]\n",
    "Die Funktion `GaussianNB` aus den Paket `sklearn.naive_bayes` erstellt ein Naives Bayes Klassifikationsmodell, wobei normalverteilte Features angenommen werden (Beschreibung der Funktion: https://scikit-learn.org/stable/modules/generated/sklearn.naive_bayes.GaussianNB.html#sklearn.naive_bayes.GaussianNB).\n",
    "1. Erstellen (fitten) Sie ein model `nb_clf` welches auf Basis der Expressionswerte (Matrix mit Werten der Positionen auf dem Genom) die Leukämieart vorhersagt. _Hinweis:_ Sie müssen dafür eine Matrix `X_train` erstellen, welche nur die Expressionswerte enthält, und einen Vektor `Y_train` mit den Werten der Zielvariable (Leukämiearten).\n",
    "1. Erstellen Sie eine Variable `Y_train_pred` welche die Vorhersagen des Modells enthält.\n",
    "1. In Python kann eine Konfusionsmatrix einfach durch die Funktion `confusion_matrix` aus `sklearn.metrics` erstellt werden. Informieren Sie sich über die Funktion und erstellen die Konfusionsmatrix für das hier trainierte Modell.\n",
    "1. Wie groß ist der Anteil der korrekt vorhergesagten Leukämiearten?\n",
    "1. Gibt es Leukämiearten, die nicht so gut vom Modell erkannt werden wie andere? Falls ja, welche sind es? Begründen Sie ihre Antwort. _Hinweis:_ `nb_clf.classes_` gibt die Reihenfolge der einzelnen Klassen im Modell wieder."
   ]
  },
  {
   "cell_type": "code",
   "execution_count": 4,
   "metadata": {},
   "outputs": [],
   "source": [
    "## Lösung für Aufgabe 2.5\n"
   ]
  },
  {
   "cell_type": "markdown",
   "metadata": {},
   "source": [
    "**Antwort zu 5.**<br>\n",
    "...."
   ]
  },
  {
   "cell_type": "markdown",
   "metadata": {},
   "source": [
    "## Aufgabe 2.6 [3 Punkte]\n",
    "Zur Überprüfung der Anwendbarkeit eines Modells, wird typischerweise die Performance auf unbekannten Daten validiert.\n",
    "1. Importieren Sie dazu den (Test-)Datensatz `gene_expression_leukemia_short_test.csv` und prognostizieren Sie die Leukämiearten für die Einträge im Datensatz durch Anwenden von `nb_clf` auf die Daten.\n",
    "1. Berechnen Sie die Accuracy für die Test-Daten."
   ]
  },
  {
   "cell_type": "code",
   "execution_count": 5,
   "metadata": {},
   "outputs": [],
   "source": [
    "## Lösung für Aufgabe 2.6\n",
    "\n",
    "#### Code here ####\n",
    "\n"
   ]
  },
  {
   "cell_type": "markdown",
   "metadata": {},
   "source": [
    "# 3. k-Nearest Neighbor"
   ]
  },
  {
   "cell_type": "markdown",
   "metadata": {},
   "source": [
    "## Aufgabe 3.1 [9 Punkte]\n",
    "Mittels der Funktion `KNeighborsClassifier` aus den Paket `sklearn.neighbors` kann man relativ einfach k-nearest neigbor Klassifikationsmodell erstellen (Beschreibung der Funktion: https://scikit-learn.org/stable/modules/generated/sklearn.neighbors.KNeighborsClassifier.html#sklearn.neighbors.KNeighborsClassifier).\n",
    "\n",
    "1. Erstellen Sie ein k-nearest Neighbor Modell `knn_clf` mit einer Nachbarschaft von $k=5$ und der euklidischen Metrik auf den Trainingsdaten `gene_expression_leukemia_short_train.csv`. \n",
    "1. Wenden Sie das Modell auf den Testdatensatz `gene_expression_leukemia_short_test.csv` an.\n",
    "1. Was ist die Accuracy auf den Trainings- bzw. Testdaten. Vergleichen Sie die Güte des Modells mit der des Naiven Bayes Klassifikators. Gibt es Unterschiede und bei welchen Leukämiearten ist dieser am größten? Falls ja, geben Sie eine Mögliche Begründung für die veränderte Accuracy an.\n",
    "1. Erstellen Sie ein weiteres k-nearest Neighbor Modell, diesmal jedoch mit der Manhattan Metrik und berechne Sie wieder die Accuracy."
   ]
  }
 ],
 "metadata": {
  "kernelspec": {
   "display_name": "Python 3 (ipykernel)",
   "language": "python",
   "name": "python3"
  },
  "language_info": {
   "codemirror_mode": {
    "name": "ipython",
    "version": 3
   },
   "file_extension": ".py",
   "mimetype": "text/x-python",
   "name": "python",
   "nbconvert_exporter": "python",
   "pygments_lexer": "ipython3",
   "version": "3.9.7"
  }
 },
 "nbformat": 4,
 "nbformat_minor": 4
}
