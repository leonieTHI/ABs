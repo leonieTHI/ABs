{
 "cells": [
  {
   "cell_type": "markdown",
   "metadata": {},
   "source": [
    "---"
   ]
  },
  {
   "cell_type": "markdown",
   "metadata": {},
   "source": [
    "[//]: # \"Header\"\n",
    "\n",
    "<p style=\"text-align: left;  font-size:18pt; LINE-HEIGHT:30px;\">\n",
    "    <span style=\"float: left\">\n",
    "     Technische Hochschule Ingolstadt<br>\n",
    "     Prof. Dr. Sören Gröttrup\n",
    "    </span>\n",
    "    <span style=\"float: right;\">\n",
    "       Machine Learning 1<br>\n",
    "        <span style=\"float: right;\">WS 23/24</span>\n",
    "    </span>\n",
    "</p>"
   ]
  },
  {
   "cell_type": "markdown",
   "metadata": {},
   "source": [
    "[//]: # \"Header Aufgabenblatt\"\n",
    "<br>\n",
    "<p style=\"text-align: center;  font-size:18pt; LINE-HEIGHT:30px;\">\n",
    "     <span style=\"font-weight: bold;\">Aufgabenblatt 3</span><br>\n",
    "     Themen: Cross-Validation, Overfitting, Normalisierung, Einführung in PyTorch<br>\n",
    "     Abgabetermin: 26.11.23, 23:59 Uhr <br>\n",
    "     Punkte: 32 (+4)\n",
    "</p>\n"
   ]
  },
  {
   "cell_type": "markdown",
   "metadata": {},
   "source": [
    "---"
   ]
  },
  {
   "cell_type": "markdown",
   "metadata": {},
   "source": [
    "**Namen:** _Bitte tragen Sie hier die Namen der Abgabegruppe ein._"
   ]
  },
  {
   "cell_type": "markdown",
   "metadata": {},
   "source": [
    "---"
   ]
  },
  {
   "cell_type": "markdown",
   "metadata": {},
   "source": [
    "# 1. K-fold Cross-Validation\n"
   ]
  },
  {
   "cell_type": "markdown",
   "metadata": {},
   "source": [
    "### Cross-Validation Funktionen in sklearn \n",
    "Python stellt einige Funktionen für die Cross-Validation zur Verfügung, welche in der Bibliothek `sklearn.model_selection` zu finden sind. Insbesondere die folgenden Funktionen sind dabei hilfreich:\n",
    "\n",
    "1. `KFold`\n",
    "1. `cross_validate`\n",
    "1. `cross_val_score`\n",
    "\n",
    "Genaue Informationen finden Sie auf der Seite https://scikit-learn.org. Einige Funktionen geben einen Evaluationsscore zurück. Schauen Sie auch nach, wie Sie den Standard-Rückgabe-Score ändern können, z.B. in den RMSE."
   ]
  },
  {
   "cell_type": "markdown",
   "metadata": {},
   "source": [
    "### Daten\n",
    "Der Datensatz `Ozone.csv` enthält meterologische Daten und die Konzentration von Ozone (O3) in der Luft im Raum Los Angeles. Die folgende Tabelle zeigt die Beschreibung der Variablen.\n",
    "\n",
    "|Name of variable| Description|\n",
    "| --- | --- |\n",
    "|O3| Daily maximum of the hourly average ozone concentration|\n",
    "|Vh| 500 millibar pressure height|\n",
    "|Wind| Wind speed in mph|\n",
    "|Humidity| Humidity in percent|\n",
    "|Temp| Temperature in degrees Fahrenheit|\n",
    "|Ibh| Temperature inversion base height in feet|\n",
    "|Dpg| Pressure gradient in mm Hg|\n",
    "|Ibt| Inversion base temperature in degrees Fahrenheit|\n",
    "|Vis| Visibility|\n",
    "|Day| Day of year|"
   ]
  },
  {
   "cell_type": "markdown",
   "metadata": {},
   "source": [
    "**Daten laden**"
   ]
  },
  {
   "cell_type": "code",
   "execution_count": 2,
   "metadata": {},
   "outputs": [],
   "source": [
    "## Packages\n",
    "import pandas as pd\n",
    "import numpy as np\n",
    "%matplotlib inline\n",
    "import matplotlib.pyplot as plt\n",
    "plt.style.use('ggplot')"
   ]
  },
  {
   "cell_type": "code",
   "execution_count": 3,
   "metadata": {},
   "outputs": [
    {
     "data": {
      "text/html": [
       "<div>\n",
       "<style scoped>\n",
       "    .dataframe tbody tr th:only-of-type {\n",
       "        vertical-align: middle;\n",
       "    }\n",
       "\n",
       "    .dataframe tbody tr th {\n",
       "        vertical-align: top;\n",
       "    }\n",
       "\n",
       "    .dataframe thead th {\n",
       "        text-align: right;\n",
       "    }\n",
       "</style>\n",
       "<table border=\"1\" class=\"dataframe\">\n",
       "  <thead>\n",
       "    <tr style=\"text-align: right;\">\n",
       "      <th></th>\n",
       "      <th>O3</th>\n",
       "      <th>vh</th>\n",
       "      <th>wind</th>\n",
       "      <th>humidity</th>\n",
       "      <th>temp</th>\n",
       "      <th>ibh</th>\n",
       "      <th>dpg</th>\n",
       "      <th>ibt</th>\n",
       "      <th>vis</th>\n",
       "      <th>doy</th>\n",
       "    </tr>\n",
       "  </thead>\n",
       "  <tbody>\n",
       "    <tr>\n",
       "      <th>0</th>\n",
       "      <td>3</td>\n",
       "      <td>5710</td>\n",
       "      <td>4</td>\n",
       "      <td>28</td>\n",
       "      <td>40</td>\n",
       "      <td>2693</td>\n",
       "      <td>-25</td>\n",
       "      <td>87</td>\n",
       "      <td>250</td>\n",
       "      <td>33</td>\n",
       "    </tr>\n",
       "    <tr>\n",
       "      <th>1</th>\n",
       "      <td>5</td>\n",
       "      <td>5700</td>\n",
       "      <td>3</td>\n",
       "      <td>37</td>\n",
       "      <td>45</td>\n",
       "      <td>590</td>\n",
       "      <td>-24</td>\n",
       "      <td>128</td>\n",
       "      <td>100</td>\n",
       "      <td>34</td>\n",
       "    </tr>\n",
       "    <tr>\n",
       "      <th>2</th>\n",
       "      <td>5</td>\n",
       "      <td>5760</td>\n",
       "      <td>3</td>\n",
       "      <td>51</td>\n",
       "      <td>54</td>\n",
       "      <td>1450</td>\n",
       "      <td>25</td>\n",
       "      <td>139</td>\n",
       "      <td>60</td>\n",
       "      <td>35</td>\n",
       "    </tr>\n",
       "    <tr>\n",
       "      <th>3</th>\n",
       "      <td>6</td>\n",
       "      <td>5720</td>\n",
       "      <td>4</td>\n",
       "      <td>69</td>\n",
       "      <td>35</td>\n",
       "      <td>1568</td>\n",
       "      <td>15</td>\n",
       "      <td>121</td>\n",
       "      <td>60</td>\n",
       "      <td>36</td>\n",
       "    </tr>\n",
       "    <tr>\n",
       "      <th>4</th>\n",
       "      <td>4</td>\n",
       "      <td>5790</td>\n",
       "      <td>6</td>\n",
       "      <td>19</td>\n",
       "      <td>45</td>\n",
       "      <td>2631</td>\n",
       "      <td>-33</td>\n",
       "      <td>123</td>\n",
       "      <td>100</td>\n",
       "      <td>37</td>\n",
       "    </tr>\n",
       "    <tr>\n",
       "      <th>...</th>\n",
       "      <td>...</td>\n",
       "      <td>...</td>\n",
       "      <td>...</td>\n",
       "      <td>...</td>\n",
       "      <td>...</td>\n",
       "      <td>...</td>\n",
       "      <td>...</td>\n",
       "      <td>...</td>\n",
       "      <td>...</td>\n",
       "      <td>...</td>\n",
       "    </tr>\n",
       "    <tr>\n",
       "      <th>325</th>\n",
       "      <td>8</td>\n",
       "      <td>5630</td>\n",
       "      <td>4</td>\n",
       "      <td>50</td>\n",
       "      <td>50</td>\n",
       "      <td>2851</td>\n",
       "      <td>-5</td>\n",
       "      <td>100</td>\n",
       "      <td>70</td>\n",
       "      <td>384</td>\n",
       "    </tr>\n",
       "    <tr>\n",
       "      <th>326</th>\n",
       "      <td>2</td>\n",
       "      <td>5730</td>\n",
       "      <td>3</td>\n",
       "      <td>53</td>\n",
       "      <td>51</td>\n",
       "      <td>111</td>\n",
       "      <td>-14</td>\n",
       "      <td>225</td>\n",
       "      <td>200</td>\n",
       "      <td>387</td>\n",
       "    </tr>\n",
       "    <tr>\n",
       "      <th>327</th>\n",
       "      <td>3</td>\n",
       "      <td>5690</td>\n",
       "      <td>3</td>\n",
       "      <td>23</td>\n",
       "      <td>51</td>\n",
       "      <td>5000</td>\n",
       "      <td>-36</td>\n",
       "      <td>107</td>\n",
       "      <td>70</td>\n",
       "      <td>388</td>\n",
       "    </tr>\n",
       "    <tr>\n",
       "      <th>328</th>\n",
       "      <td>5</td>\n",
       "      <td>5650</td>\n",
       "      <td>3</td>\n",
       "      <td>61</td>\n",
       "      <td>50</td>\n",
       "      <td>3704</td>\n",
       "      <td>18</td>\n",
       "      <td>83</td>\n",
       "      <td>40</td>\n",
       "      <td>389</td>\n",
       "    </tr>\n",
       "    <tr>\n",
       "      <th>329</th>\n",
       "      <td>1</td>\n",
       "      <td>5550</td>\n",
       "      <td>4</td>\n",
       "      <td>85</td>\n",
       "      <td>39</td>\n",
       "      <td>5000</td>\n",
       "      <td>8</td>\n",
       "      <td>44</td>\n",
       "      <td>100</td>\n",
       "      <td>390</td>\n",
       "    </tr>\n",
       "  </tbody>\n",
       "</table>\n",
       "<p>330 rows × 10 columns</p>\n",
       "</div>"
      ],
      "text/plain": [
       "     O3    vh  wind  humidity  temp   ibh  dpg  ibt  vis  doy\n",
       "0     3  5710     4        28    40  2693  -25   87  250   33\n",
       "1     5  5700     3        37    45   590  -24  128  100   34\n",
       "2     5  5760     3        51    54  1450   25  139   60   35\n",
       "3     6  5720     4        69    35  1568   15  121   60   36\n",
       "4     4  5790     6        19    45  2631  -33  123  100   37\n",
       "..   ..   ...   ...       ...   ...   ...  ...  ...  ...  ...\n",
       "325   8  5630     4        50    50  2851   -5  100   70  384\n",
       "326   2  5730     3        53    51   111  -14  225  200  387\n",
       "327   3  5690     3        23    51  5000  -36  107   70  388\n",
       "328   5  5650     3        61    50  3704   18   83   40  389\n",
       "329   1  5550     4        85    39  5000    8   44  100  390\n",
       "\n",
       "[330 rows x 10 columns]"
      ]
     },
     "execution_count": 3,
     "metadata": {},
     "output_type": "execute_result"
    }
   ],
   "source": [
    "# Import data\n",
    "data = pd.read_csv(\"./Daten Blatt 3/Ozone.csv\")\n",
    "data"
   ]
  },
  {
   "cell_type": "code",
   "execution_count": 4,
   "metadata": {},
   "outputs": [
    {
     "data": {
      "text/html": [
       "<div>\n",
       "<style scoped>\n",
       "    .dataframe tbody tr th:only-of-type {\n",
       "        vertical-align: middle;\n",
       "    }\n",
       "\n",
       "    .dataframe tbody tr th {\n",
       "        vertical-align: top;\n",
       "    }\n",
       "\n",
       "    .dataframe thead th {\n",
       "        text-align: right;\n",
       "    }\n",
       "</style>\n",
       "<table border=\"1\" class=\"dataframe\">\n",
       "  <thead>\n",
       "    <tr style=\"text-align: right;\">\n",
       "      <th></th>\n",
       "      <th>O3</th>\n",
       "      <th>vh</th>\n",
       "      <th>wind</th>\n",
       "      <th>humidity</th>\n",
       "      <th>temp</th>\n",
       "      <th>ibh</th>\n",
       "      <th>dpg</th>\n",
       "      <th>ibt</th>\n",
       "      <th>vis</th>\n",
       "      <th>doy</th>\n",
       "    </tr>\n",
       "  </thead>\n",
       "  <tbody>\n",
       "    <tr>\n",
       "      <th>count</th>\n",
       "      <td>330.000000</td>\n",
       "      <td>330.000000</td>\n",
       "      <td>330.000000</td>\n",
       "      <td>330.000000</td>\n",
       "      <td>330.000000</td>\n",
       "      <td>330.000000</td>\n",
       "      <td>330.000000</td>\n",
       "      <td>330.000000</td>\n",
       "      <td>330.000000</td>\n",
       "      <td>330.000000</td>\n",
       "    </tr>\n",
       "    <tr>\n",
       "      <th>mean</th>\n",
       "      <td>11.775758</td>\n",
       "      <td>5750.484848</td>\n",
       "      <td>4.848485</td>\n",
       "      <td>58.130303</td>\n",
       "      <td>61.754545</td>\n",
       "      <td>2572.875758</td>\n",
       "      <td>17.369697</td>\n",
       "      <td>161.160606</td>\n",
       "      <td>124.533333</td>\n",
       "      <td>209.424242</td>\n",
       "    </tr>\n",
       "    <tr>\n",
       "      <th>std</th>\n",
       "      <td>8.011277</td>\n",
       "      <td>105.708241</td>\n",
       "      <td>2.116963</td>\n",
       "      <td>19.865000</td>\n",
       "      <td>14.458737</td>\n",
       "      <td>1803.885870</td>\n",
       "      <td>35.717181</td>\n",
       "      <td>76.679424</td>\n",
       "      <td>79.362393</td>\n",
       "      <td>104.376374</td>\n",
       "    </tr>\n",
       "    <tr>\n",
       "      <th>min</th>\n",
       "      <td>1.000000</td>\n",
       "      <td>5320.000000</td>\n",
       "      <td>0.000000</td>\n",
       "      <td>19.000000</td>\n",
       "      <td>25.000000</td>\n",
       "      <td>111.000000</td>\n",
       "      <td>-69.000000</td>\n",
       "      <td>-25.000000</td>\n",
       "      <td>0.000000</td>\n",
       "      <td>33.000000</td>\n",
       "    </tr>\n",
       "    <tr>\n",
       "      <th>25%</th>\n",
       "      <td>5.000000</td>\n",
       "      <td>5690.000000</td>\n",
       "      <td>3.000000</td>\n",
       "      <td>47.000000</td>\n",
       "      <td>51.000000</td>\n",
       "      <td>877.500000</td>\n",
       "      <td>-9.000000</td>\n",
       "      <td>107.000000</td>\n",
       "      <td>70.000000</td>\n",
       "      <td>120.250000</td>\n",
       "    </tr>\n",
       "    <tr>\n",
       "      <th>50%</th>\n",
       "      <td>10.000000</td>\n",
       "      <td>5760.000000</td>\n",
       "      <td>5.000000</td>\n",
       "      <td>64.000000</td>\n",
       "      <td>62.000000</td>\n",
       "      <td>2112.500000</td>\n",
       "      <td>24.000000</td>\n",
       "      <td>167.500000</td>\n",
       "      <td>120.000000</td>\n",
       "      <td>205.500000</td>\n",
       "    </tr>\n",
       "    <tr>\n",
       "      <th>75%</th>\n",
       "      <td>17.000000</td>\n",
       "      <td>5830.000000</td>\n",
       "      <td>6.000000</td>\n",
       "      <td>73.000000</td>\n",
       "      <td>72.000000</td>\n",
       "      <td>5000.000000</td>\n",
       "      <td>44.750000</td>\n",
       "      <td>214.000000</td>\n",
       "      <td>150.000000</td>\n",
       "      <td>301.750000</td>\n",
       "    </tr>\n",
       "    <tr>\n",
       "      <th>max</th>\n",
       "      <td>38.000000</td>\n",
       "      <td>5950.000000</td>\n",
       "      <td>11.000000</td>\n",
       "      <td>93.000000</td>\n",
       "      <td>93.000000</td>\n",
       "      <td>5000.000000</td>\n",
       "      <td>107.000000</td>\n",
       "      <td>332.000000</td>\n",
       "      <td>350.000000</td>\n",
       "      <td>390.000000</td>\n",
       "    </tr>\n",
       "  </tbody>\n",
       "</table>\n",
       "</div>"
      ],
      "text/plain": [
       "               O3           vh        wind    humidity        temp  \\\n",
       "count  330.000000   330.000000  330.000000  330.000000  330.000000   \n",
       "mean    11.775758  5750.484848    4.848485   58.130303   61.754545   \n",
       "std      8.011277   105.708241    2.116963   19.865000   14.458737   \n",
       "min      1.000000  5320.000000    0.000000   19.000000   25.000000   \n",
       "25%      5.000000  5690.000000    3.000000   47.000000   51.000000   \n",
       "50%     10.000000  5760.000000    5.000000   64.000000   62.000000   \n",
       "75%     17.000000  5830.000000    6.000000   73.000000   72.000000   \n",
       "max     38.000000  5950.000000   11.000000   93.000000   93.000000   \n",
       "\n",
       "               ibh         dpg         ibt         vis         doy  \n",
       "count   330.000000  330.000000  330.000000  330.000000  330.000000  \n",
       "mean   2572.875758   17.369697  161.160606  124.533333  209.424242  \n",
       "std    1803.885870   35.717181   76.679424   79.362393  104.376374  \n",
       "min     111.000000  -69.000000  -25.000000    0.000000   33.000000  \n",
       "25%     877.500000   -9.000000  107.000000   70.000000  120.250000  \n",
       "50%    2112.500000   24.000000  167.500000  120.000000  205.500000  \n",
       "75%    5000.000000   44.750000  214.000000  150.000000  301.750000  \n",
       "max    5000.000000  107.000000  332.000000  350.000000  390.000000  "
      ]
     },
     "execution_count": 4,
     "metadata": {},
     "output_type": "execute_result"
    }
   ],
   "source": [
    "data.describe()"
   ]
  },
  {
   "cell_type": "code",
   "execution_count": 5,
   "metadata": {},
   "outputs": [],
   "source": [
    "# get Featur-Matrix and Target Variable\n",
    "X = data.drop(columns=(\"O3\"))\n",
    "y = data[\"O3\"]"
   ]
  },
  {
   "cell_type": "markdown",
   "metadata": {},
   "source": [
    "## Aufgabe 1.1 (Lineare Regression mittels K-fold X-Validation) [10 Punkte]\n",
    "1.  Führen Sie folgenden Code aus. Beschreiben Sie was die einzelnen Zeilen Code machen und deren Ergebnis. _Hinweis:_ Ermitteln Sie die Dimension von `X_train`, `X_test`, etc.\n",
    "\n",
    "```python\n",
    "from sklearn.model_selection import train_test_split\n",
    "X_train, X_test, y_train, y_test = train_test_split(X, y, test_size=0.2, random_state=11)\n",
    "```\n",
    "\n",
    "2. Trainieren Sie ein lineares Regressionsmodell auf den in 1. generierten Trainignsdaten. Berechnen Sie dann den RMSE für den Trainings und Testdatensatz.\n",
    "2. Erstellen Sie nun ein lineares Regressionsmodell mittels 10-facher Kreuzvalidierung, was aus den meterologischen Daten die Ozone-Konzentration in der Luft schätzt. Sie können dafür die oben angegebenen Funktionen `KFold`, `cross_validate` oder `cross_val_score` nutzen. Verwenden Sie als Gütemaß den _Root Mean Squared Error (RMSE)_.\n",
    "2. Was ist der RMSE für das in 3. trainierte Modell auf dem Trainings- und auf dem Testdatensatz? Und vergleichen Sie das Ergebnis mit dem RMSE aus Teil 2."
   ]
  },
  {
   "cell_type": "code",
   "execution_count": 6,
   "metadata": {},
   "outputs": [],
   "source": [
    "from sklearn.linear_model import LinearRegression\n",
    "from sklearn.model_selection import cross_val_score, cross_validate, KFold\n",
    "from sklearn.metrics import mean_squared_error\n",
    "import math"
   ]
  },
  {
   "cell_type": "markdown",
   "metadata": {},
   "source": [
    "### Lösung Aufgabe 1.1"
   ]
  },
  {
   "cell_type": "code",
   "execution_count": 7,
   "metadata": {},
   "outputs": [
    {
     "data": {
      "text/plain": [
       "Ellipsis"
      ]
     },
     "execution_count": 7,
     "metadata": {},
     "output_type": "execute_result"
    }
   ],
   "source": [
    "..."
   ]
  },
  {
   "cell_type": "markdown",
   "metadata": {},
   "source": [
    "## Aufgabe 1.2 (Finden des optimalen k im kNN) [10 Punkte]\n",
    "Ziel der Aufgabe ist die Erstellung eines kNN-Regressionsmodells, welches die O3-Konzentration auf Basis der anderen Variablen vorhersagt. Für die Wahl des \"besten\" Modells müssen Sie den optimalen Hyperparameter `k` bestimmen, welcher die Anzahl an Nachbarn im kNN-Modell angibt. In dieser Aufgabe sollen Sie für die Bestimmung das Cross-Validation Verfahren anwenden.\n",
    "\n",
    "1. Splitten Sie 20% des Datensatzen als Validierungsdaten ab. Benutzen Sie dafür die Funktion `train_test_split` mit `random_state = 123`. \n",
    "1. Trainieren Sie auf den restlichen Daten für jedes $k=1,...,50$ ein k-Nearest Neigbor Modelle mittels 10-facher Kreuzvalidierung.\n",
    "1. Visualisieren Sie den RMSE für die Trainingsdaten und Testdaten innerhalb der Kreuzvalidierung. Für welche $k$ tritt Overfitting ein?\n",
    "1. Für welches $k$ zeigt das kNN Modell die beste Güte bezogen auf den RMSE? \n",
    "1. Erstellen Sie ein finales Modell, indem Sie für das gefundene $k$ ein kNN auf den ganzen Trainingsdaten erzeugen.\n",
    "1. Validieren Sie das Modell auf den Validierungsdaten. Ist das gefundene Modell geeignet?"
   ]
  },
  {
   "cell_type": "code",
   "execution_count": 8,
   "metadata": {},
   "outputs": [],
   "source": [
    "from sklearn.neighbors import KNeighborsRegressor\n",
    "from sklearn.preprocessing import StandardScaler\n",
    "from sklearn.pipeline import Pipeline\n",
    "\n",
    "import math"
   ]
  },
  {
   "cell_type": "markdown",
   "metadata": {},
   "source": [
    "### Lösung Aufgabe 1.2"
   ]
  },
  {
   "cell_type": "code",
   "execution_count": 9,
   "metadata": {},
   "outputs": [
    {
     "data": {
      "text/plain": [
       "Ellipsis"
      ]
     },
     "execution_count": 9,
     "metadata": {},
     "output_type": "execute_result"
    }
   ],
   "source": [
    "..."
   ]
  },
  {
   "cell_type": "markdown",
   "metadata": {},
   "source": [
    "## Aufgabe 1.3  [10 Punkte]\n",
    "1. Betrachten Sie den `Ozone` Datensatz. Was für ein Problem könnte hier beim Training eines Modells auftreten? \n",
    "1. Informieren Sie sich über die Funktion `StandardScaler()` im Paket `sklearn.preprocessing`. Welche Transformation der Features führt diese aus? \n",
    "1. Führen Sie wie in der Aufgabe davor eine 10-fache kreuzvalidierung durch, zur Bestimmung des optimalen $k=1,...,50$ für ein k-Nearest Neighbor Modell, jedoch für skalierte Feature. Sie können dabei den gleichen Validierungsdatensatz wie in der vorherigen Aufgabe verwenden. Berechnen Sie auch hier jeweils den RMSE. Welches $k$ ist in diesem Fall optimal?\n",
    "1. Trainieren Sie wieder ein finales Modell auf allen Trainignsdaten für das von Ihnen gefundenen optimale $k$ und validieren Sie dieses auf dem Validierungsdatensatz. Vergleichen Sie das Ergebnis mit dem aus der vorherigen Aufgabe.\n",
    "\n",
    "_Hinweise:_ \n",
    "* Achten Sie darauf, dass Sie bei der Erstellung der Modelle in der Kreuzvalidierung Training und Test sauber trennen. Dies gilt auch insbesondere für die Skalierung! \n",
    "* Machen Sie sich also Gedanken über die Reihenfolde der einzelnen Schritte, bevor Sie den Algorithmus implementieren.\n",
    "* Die Funktion `Pipeline` in `sklearn.pipeline` kann hier sehr nützlich sein."
   ]
  },
  {
   "cell_type": "markdown",
   "metadata": {
    "tags": []
   },
   "source": [
    "### Lösung Aufgabe 1.3"
   ]
  },
  {
   "cell_type": "code",
   "execution_count": 10,
   "metadata": {},
   "outputs": [
    {
     "data": {
      "text/plain": [
       "Ellipsis"
      ]
     },
     "execution_count": 10,
     "metadata": {},
     "output_type": "execute_result"
    }
   ],
   "source": [
    "..."
   ]
  },
  {
   "cell_type": "markdown",
   "metadata": {},
   "source": [
    "# 2. Bootstrapverfahren"
   ]
  },
  {
   "cell_type": "markdown",
   "metadata": {},
   "source": [
    "## Aufgabe 2.1 [2 Punkte]\n",
    "\n",
    "Sei $B$ die Anzahl an Bootstrap Datensätzen. In der Vorlesung wurde gesagt, dass sich für großes $B$ das Bootstrap-Verfahren so verhält wie eine Leave-one-out CV. Geben Sie dafür eine Begründung an."
   ]
  },
  {
   "cell_type": "markdown",
   "metadata": {},
   "source": [
    "### Antwort zu Aufgabe 2.1\n",
    "Der größte Unterschied zwischen Bootstrap Verfahren und LOO CV ist, dass beim Bootrstrap Verfahren ein \"Ziehen mit Zurücklegen\" stattfindet, also theoretisch auch zufällig zwei völlig identische Trainingsdatensätze entstehen könnten.Bei einem sehr großen B spielt dieser Zufall allerdings keine Rolle mehr im Verhältnis, da der Fall identischer Datensätze oder doppelter Datenpunkte in einem Trainingsdatensatz B eher gering auftritt. Die Testdatensätze unterscheiden sich dadurch strukturell kaum und der berechnete Error nährt sich einander an. "
   ]
  },
  {
   "cell_type": "markdown",
   "metadata": {},
   "source": [
    "# 3. Einführung in  Pytorch\n",
    "\n",
    "In den nächsten Aufgabenblättern werden wir PyTorch verwenden, um Neuronale Netze zu trainieren. Dieser Abschnitt dient dazu sich selbstständig mit PyTorch vertraut zu machen."
   ]
  },
  {
   "cell_type": "markdown",
   "metadata": {
    "jp-MarkdownHeadingCollapsed": true,
    "tags": []
   },
   "source": [
    "## Aufgabe 3.1 [0 Punkte]\n",
    "\n",
    "Beschäftigen Sie sich mit Pytorch, in dem Sie z.B. einige der folgenden Tutorien durchspielen.\n",
    "\n",
    "**Tutorien:**\n",
    "\n",
    "* https://pytorch.org/tutorials/beginner/deep_learning_60min_blitz.html\n",
    "\n",
    "* https://cs230.stanford.edu/blog/pytorch/\n",
    "\n",
    "* https://towardsdatascience.com/understanding-pytorch-with-an-example-a-step-by-step-tutorial-81fc5f8c4e8e"
   ]
  },
  {
   "cell_type": "markdown",
   "metadata": {},
   "source": [
    "## Aufgabe 3.2 [0 Punkte]\n",
    "\n",
    "Im unten liegenden Code wird eine Lineare Regression auf dem Datensatz `Ozone` zur Vorhersage von `O3` in PyTorch trainiert. Schauen Sie sich den Code an und versuchen Sie die einzelnen Schritte nachzuvollziehen."
   ]
  },
  {
   "cell_type": "code",
   "execution_count": 11,
   "metadata": {},
   "outputs": [],
   "source": [
    "## load Packages\n",
    "from sklearn.model_selection import train_test_split\n",
    "from sklearn.preprocessing import StandardScaler\n",
    "import numpy as np\n",
    "import matplotlib.pyplot as plt\n",
    "\n",
    "import torch\n",
    "import torch.nn as net\n",
    "import torch.nn.functional as F\n",
    "import torch.optim as optim\n",
    "\n",
    "%matplotlib inline\n",
    "plt.style.use('ggplot')"
   ]
  },
  {
   "cell_type": "markdown",
   "metadata": {},
   "source": [
    "**Preprocessing**"
   ]
  },
  {
   "cell_type": "code",
   "execution_count": 12,
   "metadata": {},
   "outputs": [],
   "source": [
    "# Split data into training and test set\n",
    "X_train, X_test, y_train, y_test = train_test_split(X, y, test_size = 0.2, random_state=12)"
   ]
  },
  {
   "cell_type": "code",
   "execution_count": 13,
   "metadata": {},
   "outputs": [],
   "source": [
    "# Scale Variables (StandardScaler)\n",
    "sc = StandardScaler()\n",
    "\n",
    "# fit & transform scaler\n",
    "X_train = sc.fit_transform(X_train)\n",
    "\n",
    "# apply scaler to test set\n",
    "X_test = sc.transform(X_test)"
   ]
  },
  {
   "cell_type": "code",
   "execution_count": 14,
   "metadata": {},
   "outputs": [],
   "source": [
    "## To Tensor\n",
    "x_train_ts = torch.tensor(X_train, dtype=torch.float)\n",
    "x_test_ts = torch.tensor(X_test, dtype=torch.float)\n",
    "\n",
    "y_train_ts = torch.tensor(y_train.to_numpy(), dtype=torch.float).view(-1,1)\n",
    "y_test_ts = torch.tensor(y_test.to_numpy(), dtype=torch.float).view(-1,1)"
   ]
  },
  {
   "cell_type": "code",
   "execution_count": 15,
   "metadata": {},
   "outputs": [
    {
     "data": {
      "text/plain": [
       "(torch.Size([264, 9]), torch.Size([264, 1]))"
      ]
     },
     "execution_count": 15,
     "metadata": {},
     "output_type": "execute_result"
    }
   ],
   "source": [
    "x_train_ts.shape, y_train_ts.shape"
   ]
  },
  {
   "cell_type": "markdown",
   "metadata": {},
   "source": [
    "**Define Hyper-Parameter, Model and Optimizer**"
   ]
  },
  {
   "cell_type": "code",
   "execution_count": 16,
   "metadata": {},
   "outputs": [
    {
     "data": {
      "text/plain": [
       "<torch._C.Generator at 0x1e260afe210>"
      ]
     },
     "execution_count": 16,
     "metadata": {},
     "output_type": "execute_result"
    }
   ],
   "source": [
    "# Define Hyper-Parameters\n",
    "n_iterations = 40\n",
    "learning_rate = 0.05\n",
    "\n",
    "random_seed = 12\n",
    "torch.manual_seed(random_seed)"
   ]
  },
  {
   "cell_type": "code",
   "execution_count": 17,
   "metadata": {},
   "outputs": [],
   "source": [
    "# Definition of the linear regression model\n",
    "class LinReg(net.Module):\n",
    "    def __init__(self):\n",
    "        super(LinReg, self).__init__()\n",
    "        # 9 Inputs und ein 1 Output, lineare Verarbeitung\n",
    "        self_linear = net.Linear(9,1)\n",
    "        #Neuronales Netz mit einem Layer mit 4 Neuronen\n",
    "        #self.linear_hl = net.Linear(9, 4)\n",
    "        #self.linear_ol = net.Linear(4,1)\n",
    "        \n",
    "\n",
    "    def forward(self, x):\n",
    "        x = self.linear(x)\n",
    "        #NN\n",
    "        #x = self.linear_hl(x)\n",
    "        #x = torch.relu(X)\n",
    "        #x = self.linear_ol(x)\n",
    "        return x"
   ]
  },
  {
   "cell_type": "code",
   "execution_count": 18,
   "metadata": {},
   "outputs": [],
   "source": [
    "# Initialize Linear Regression & Optimizer (Gradient Descent)\n",
    "linear_regression = LinReg()\n",
    "optimizer = optim.SGD(linear_regression.parameters(), lr=learning_rate)"
   ]
  },
  {
   "cell_type": "markdown",
   "metadata": {},
   "source": [
    "**Run Training**"
   ]
  },
  {
   "cell_type": "code",
   "execution_count": 19,
   "metadata": {},
   "outputs": [],
   "source": [
    "# Define variable to save the loss for each iteration\n",
    "train_losses = []\n",
    "test_losses = []"
   ]
  },
  {
   "cell_type": "code",
   "execution_count": 20,
   "metadata": {},
   "outputs": [
    {
     "name": "stdout",
     "output_type": "stream",
     "text": [
      "Iteration 1, Train set - loss: 14.136 | Test set - Loss: 11.78\n",
      "Iteration 2, Train set - loss: 12.302 | Test set - Loss: 10.525\n",
      "Iteration 3, Train set - loss: 10.974 | Test set - Loss: 9.559\n",
      "Iteration 4, Train set - loss: 9.94 | Test set - Loss: 8.776\n",
      "Iteration 5, Train set - loss: 9.096 | Test set - Loss: 8.121\n",
      "Iteration 6, Train set - loss: 8.385 | Test set - Loss: 7.563\n",
      "Iteration 7, Train set - loss: 7.778 | Test set - Loss: 7.086\n",
      "Iteration 8, Train set - loss: 7.257 | Test set - Loss: 6.677\n",
      "Iteration 9, Train set - loss: 6.81 | Test set - Loss: 6.328\n",
      "Iteration 10, Train set - loss: 6.427 | Test set - Loss: 6.031\n",
      "Iteration 11, Train set - loss: 6.1 | Test set - Loss: 5.78\n",
      "Iteration 12, Train set - loss: 5.821 | Test set - Loss: 5.568\n",
      "Iteration 13, Train set - loss: 5.585 | Test set - Loss: 5.391\n",
      "Iteration 14, Train set - loss: 5.386 | Test set - Loss: 5.243\n",
      "Iteration 15, Train set - loss: 5.219 | Test set - Loss: 5.12\n",
      "Iteration 16, Train set - loss: 5.079 | Test set - Loss: 5.019\n",
      "Iteration 17, Train set - loss: 4.962 | Test set - Loss: 4.936\n",
      "Iteration 18, Train set - loss: 4.865 | Test set - Loss: 4.868\n",
      "Iteration 19, Train set - loss: 4.784 | Test set - Loss: 4.812\n",
      "Iteration 20, Train set - loss: 4.717 | Test set - Loss: 4.767\n",
      "Iteration 21, Train set - loss: 4.662 | Test set - Loss: 4.73\n",
      "Iteration 22, Train set - loss: 4.616 | Test set - Loss: 4.701\n",
      "Iteration 23, Train set - loss: 4.577 | Test set - Loss: 4.677\n",
      "Iteration 24, Train set - loss: 4.546 | Test set - Loss: 4.658\n",
      "Iteration 25, Train set - loss: 4.519 | Test set - Loss: 4.642\n",
      "Iteration 26, Train set - loss: 4.498 | Test set - Loss: 4.63\n",
      "Iteration 27, Train set - loss: 4.479 | Test set - Loss: 4.621\n",
      "Iteration 28, Train set - loss: 4.464 | Test set - Loss: 4.613\n",
      "Iteration 29, Train set - loss: 4.451 | Test set - Loss: 4.607\n",
      "Iteration 30, Train set - loss: 4.44 | Test set - Loss: 4.602\n",
      "Iteration 31, Train set - loss: 4.431 | Test set - Loss: 4.598\n",
      "Iteration 32, Train set - loss: 4.423 | Test set - Loss: 4.596\n",
      "Iteration 33, Train set - loss: 4.416 | Test set - Loss: 4.593\n",
      "Iteration 34, Train set - loss: 4.41 | Test set - Loss: 4.592\n",
      "Iteration 35, Train set - loss: 4.405 | Test set - Loss: 4.591\n",
      "Iteration 36, Train set - loss: 4.4 | Test set - Loss: 4.59\n",
      "Iteration 37, Train set - loss: 4.396 | Test set - Loss: 4.59\n",
      "Iteration 38, Train set - loss: 4.392 | Test set - Loss: 4.589\n",
      "Iteration 39, Train set - loss: 4.389 | Test set - Loss: 4.589\n",
      "Iteration 40, Train set - loss: 4.386 | Test set - Loss: 4.589\n"
     ]
    }
   ],
   "source": [
    "# Run Training\n",
    "# Performe Parameter-Update in every Iteration via Gradient Descent\n",
    "\n",
    "for epoch in range(1, n_iterations + 1):\n",
    "    \n",
    "    # --- Training ----#\n",
    "    optimizer.zero_grad()                       #Gradienten der Parameter werden auf 0 gesetzt\n",
    "    y_pred = linear_regression(x_train_ts)      #prediction\n",
    "    train_loss = F.mse_loss(y_pred, y_train_ts) #calc loss\n",
    "    #Gradienten für Parameter berechnen\n",
    "    train_loss.backward()                       #calc Gradients/backpropagation\n",
    "    optimizer.step()                            #update parameter: w w -learning_rate * grad\n",
    "    \n",
    "    \n",
    "    # ----- Evaluation metrics train ---- #\n",
    "    train_losses.append(np.sqrt(train_loss.item()))\n",
    "    \n",
    "    # ----- Test Prediction & Evaluation -------------#\n",
    "    y_test_pred = linear_regression(x_test_ts)\n",
    "    \n",
    "    # Loss\n",
    "    test_loss = F.mse_loss(y_test_pred, y_test_ts)\n",
    "    test_losses.append(np.sqrt(test_loss.item())) #RMSE\n",
    "    \n",
    "    # Print Validation criteria\n",
    "    print(f'''Iteration {epoch}, Train set - loss: {round(np.sqrt(train_loss.item()), 3)} | Test set - Loss: {round(np.sqrt(test_loss.item()), 3)}''')"
   ]
  },
  {
   "cell_type": "markdown",
   "metadata": {},
   "source": [
    "**Visualize Training Process**"
   ]
  },
  {
   "cell_type": "code",
   "execution_count": 21,
   "metadata": {},
   "outputs": [
    {
     "data": {
      "image/png": "[encoded data removed]",
      "text/plain": [
       "<Figure size 640x480 with 1 Axes>"
      ]
     },
     "metadata": {},
     "output_type": "display_data"
    }
   ],
   "source": [
    "# Visualize Training process\n",
    "plt.plot(train_losses, label=\"Training\")\n",
    "plt.plot(test_losses, c='blue', label=\"Test\")\n",
    "plt.title(\"RMSE-Loss of Training\")\n",
    "plt.xlabel(\"Iteration\")\n",
    "plt.ylabel(\"RMSE\")\n",
    "plt.legend()\n",
    "plt.show()"
   ]
  },
  {
   "cell_type": "markdown",
   "metadata": {
    "tags": []
   },
   "source": [
    "## Aufgabe 3.2 (Zusatzaufgabe) (Logistische Regression in PyTorch) [4 Punkte*]\n",
    "**Diese Punkte sind nicht relevant für die Bestimmung der Bestehensgrenze, können aber von Ihnen als Zusatzpunkte gesammelt werden.**\n",
    "\n",
    "Der _Wisconsin Breast Cancer_ Datensatz enthält Messwerte von Gewebeproben der Brust, sowie eine Variable `diagnosis`, welche angibt, ob die Gewebeprobe tumorös (1) oder gesund ist (0). Weitere Informationen finden Sie hier: https://archive.ics.uci.edu/ml/datasets/Breast+Cancer+Wisconsin+(Diagnostic)\n",
    "\n",
    "Schreiben Sie den obigen Code um, so dass Sie eine logistische Regression trainieren, welche basierend auf den Messwerten erkennt, ob eine vorliegnde Gewebeprobe tumorös oder nicht-tumorös ist. Benutzen Sie als Verlustfunktion die Cross-Entropy. Was ist die Accuracy auf den Trainingsdaten? "
   ]
  },
  {
   "cell_type": "markdown",
   "metadata": {},
   "source": [
    "### Lösung Aufgabe 3.2"
   ]
  },
  {
   "cell_type": "code",
   "execution_count": 22,
   "metadata": {},
   "outputs": [
    {
     "data": {
      "text/html": [
       "<div>\n",
       "<style scoped>\n",
       "    .dataframe tbody tr th:only-of-type {\n",
       "        vertical-align: middle;\n",
       "    }\n",
       "\n",
       "    .dataframe tbody tr th {\n",
       "        vertical-align: top;\n",
       "    }\n",
       "\n",
       "    .dataframe thead th {\n",
       "        text-align: right;\n",
       "    }\n",
       "</style>\n",
       "<table border=\"1\" class=\"dataframe\">\n",
       "  <thead>\n",
       "    <tr style=\"text-align: right;\">\n",
       "      <th></th>\n",
       "      <th>mean radius</th>\n",
       "      <th>mean texture</th>\n",
       "      <th>mean perimeter</th>\n",
       "      <th>mean area</th>\n",
       "      <th>mean smoothness</th>\n",
       "      <th>mean compactness</th>\n",
       "      <th>mean concavity</th>\n",
       "      <th>mean concave points</th>\n",
       "      <th>mean symmetry</th>\n",
       "      <th>mean fractal dimension</th>\n",
       "      <th>...</th>\n",
       "      <th>worst texture</th>\n",
       "      <th>worst perimeter</th>\n",
       "      <th>worst area</th>\n",
       "      <th>worst smoothness</th>\n",
       "      <th>worst compactness</th>\n",
       "      <th>worst concavity</th>\n",
       "      <th>worst concave points</th>\n",
       "      <th>worst symmetry</th>\n",
       "      <th>worst fractal dimension</th>\n",
       "      <th>diagnosis</th>\n",
       "    </tr>\n",
       "  </thead>\n",
       "  <tbody>\n",
       "    <tr>\n",
       "      <th>0</th>\n",
       "      <td>17.99</td>\n",
       "      <td>10.38</td>\n",
       "      <td>122.80</td>\n",
       "      <td>1001.0</td>\n",
       "      <td>0.11840</td>\n",
       "      <td>0.27760</td>\n",
       "      <td>0.3001</td>\n",
       "      <td>0.14710</td>\n",
       "      <td>0.2419</td>\n",
       "      <td>0.07871</td>\n",
       "      <td>...</td>\n",
       "      <td>17.33</td>\n",
       "      <td>184.60</td>\n",
       "      <td>2019.0</td>\n",
       "      <td>0.1622</td>\n",
       "      <td>0.6656</td>\n",
       "      <td>0.7119</td>\n",
       "      <td>0.2654</td>\n",
       "      <td>0.4601</td>\n",
       "      <td>0.11890</td>\n",
       "      <td>0</td>\n",
       "    </tr>\n",
       "    <tr>\n",
       "      <th>1</th>\n",
       "      <td>20.57</td>\n",
       "      <td>17.77</td>\n",
       "      <td>132.90</td>\n",
       "      <td>1326.0</td>\n",
       "      <td>0.08474</td>\n",
       "      <td>0.07864</td>\n",
       "      <td>0.0869</td>\n",
       "      <td>0.07017</td>\n",
       "      <td>0.1812</td>\n",
       "      <td>0.05667</td>\n",
       "      <td>...</td>\n",
       "      <td>23.41</td>\n",
       "      <td>158.80</td>\n",
       "      <td>1956.0</td>\n",
       "      <td>0.1238</td>\n",
       "      <td>0.1866</td>\n",
       "      <td>0.2416</td>\n",
       "      <td>0.1860</td>\n",
       "      <td>0.2750</td>\n",
       "      <td>0.08902</td>\n",
       "      <td>0</td>\n",
       "    </tr>\n",
       "    <tr>\n",
       "      <th>2</th>\n",
       "      <td>19.69</td>\n",
       "      <td>21.25</td>\n",
       "      <td>130.00</td>\n",
       "      <td>1203.0</td>\n",
       "      <td>0.10960</td>\n",
       "      <td>0.15990</td>\n",
       "      <td>0.1974</td>\n",
       "      <td>0.12790</td>\n",
       "      <td>0.2069</td>\n",
       "      <td>0.05999</td>\n",
       "      <td>...</td>\n",
       "      <td>25.53</td>\n",
       "      <td>152.50</td>\n",
       "      <td>1709.0</td>\n",
       "      <td>0.1444</td>\n",
       "      <td>0.4245</td>\n",
       "      <td>0.4504</td>\n",
       "      <td>0.2430</td>\n",
       "      <td>0.3613</td>\n",
       "      <td>0.08758</td>\n",
       "      <td>0</td>\n",
       "    </tr>\n",
       "    <tr>\n",
       "      <th>3</th>\n",
       "      <td>11.42</td>\n",
       "      <td>20.38</td>\n",
       "      <td>77.58</td>\n",
       "      <td>386.1</td>\n",
       "      <td>0.14250</td>\n",
       "      <td>0.28390</td>\n",
       "      <td>0.2414</td>\n",
       "      <td>0.10520</td>\n",
       "      <td>0.2597</td>\n",
       "      <td>0.09744</td>\n",
       "      <td>...</td>\n",
       "      <td>26.50</td>\n",
       "      <td>98.87</td>\n",
       "      <td>567.7</td>\n",
       "      <td>0.2098</td>\n",
       "      <td>0.8663</td>\n",
       "      <td>0.6869</td>\n",
       "      <td>0.2575</td>\n",
       "      <td>0.6638</td>\n",
       "      <td>0.17300</td>\n",
       "      <td>0</td>\n",
       "    </tr>\n",
       "    <tr>\n",
       "      <th>4</th>\n",
       "      <td>20.29</td>\n",
       "      <td>14.34</td>\n",
       "      <td>135.10</td>\n",
       "      <td>1297.0</td>\n",
       "      <td>0.10030</td>\n",
       "      <td>0.13280</td>\n",
       "      <td>0.1980</td>\n",
       "      <td>0.10430</td>\n",
       "      <td>0.1809</td>\n",
       "      <td>0.05883</td>\n",
       "      <td>...</td>\n",
       "      <td>16.67</td>\n",
       "      <td>152.20</td>\n",
       "      <td>1575.0</td>\n",
       "      <td>0.1374</td>\n",
       "      <td>0.2050</td>\n",
       "      <td>0.4000</td>\n",
       "      <td>0.1625</td>\n",
       "      <td>0.2364</td>\n",
       "      <td>0.07678</td>\n",
       "      <td>0</td>\n",
       "    </tr>\n",
       "  </tbody>\n",
       "</table>\n",
       "<p>5 rows × 31 columns</p>\n",
       "</div>"
      ],
      "text/plain": [
       "   mean radius  mean texture  mean perimeter  mean area  mean smoothness  \\\n",
       "0        17.99         10.38          122.80     1001.0          0.11840   \n",
       "1        20.57         17.77          132.90     1326.0          0.08474   \n",
       "2        19.69         21.25          130.00     1203.0          0.10960   \n",
       "3        11.42         20.38           77.58      386.1          0.14250   \n",
       "4        20.29         14.34          135.10     1297.0          0.10030   \n",
       "\n",
       "   mean compactness  mean concavity  mean concave points  mean symmetry  \\\n",
       "0           0.27760          0.3001              0.14710         0.2419   \n",
       "1           0.07864          0.0869              0.07017         0.1812   \n",
       "2           0.15990          0.1974              0.12790         0.2069   \n",
       "3           0.28390          0.2414              0.10520         0.2597   \n",
       "4           0.13280          0.1980              0.10430         0.1809   \n",
       "\n",
       "   mean fractal dimension  ...  worst texture  worst perimeter  worst area  \\\n",
       "0                 0.07871  ...          17.33           184.60      2019.0   \n",
       "1                 0.05667  ...          23.41           158.80      1956.0   \n",
       "2                 0.05999  ...          25.53           152.50      1709.0   \n",
       "3                 0.09744  ...          26.50            98.87       567.7   \n",
       "4                 0.05883  ...          16.67           152.20      1575.0   \n",
       "\n",
       "   worst smoothness  worst compactness  worst concavity  worst concave points  \\\n",
       "0            0.1622             0.6656           0.7119                0.2654   \n",
       "1            0.1238             0.1866           0.2416                0.1860   \n",
       "2            0.1444             0.4245           0.4504                0.2430   \n",
       "3            0.2098             0.8663           0.6869                0.2575   \n",
       "4            0.1374             0.2050           0.4000                0.1625   \n",
       "\n",
       "   worst symmetry  worst fractal dimension  diagnosis  \n",
       "0          0.4601                  0.11890          0  \n",
       "1          0.2750                  0.08902          0  \n",
       "2          0.3613                  0.08758          0  \n",
       "3          0.6638                  0.17300          0  \n",
       "4          0.2364                  0.07678          0  \n",
       "\n",
       "[5 rows x 31 columns]"
      ]
     },
     "execution_count": 22,
     "metadata": {},
     "output_type": "execute_result"
    }
   ],
   "source": [
    "## Load Data\n",
    "from sklearn.datasets import load_breast_cancer\n",
    "cancer_dataset = load_breast_cancer()\n",
    "cancer = pd.DataFrame(cancer_dataset.data, columns=cancer_dataset.feature_names)\n",
    "cancer[\"diagnosis\"] = cancer_dataset.target\n",
    "cancer.head()"
   ]
  },
  {
   "cell_type": "code",
   "execution_count": 23,
   "metadata": {},
   "outputs": [],
   "source": [
    "# Split data into training and test set\n",
    "X_train, X_test, y_train, y_test = train_test_split(cancer_dataset.data, cancer_dataset.target, test_size = 0.2, random_state=12)"
   ]
  },
  {
   "cell_type": "code",
   "execution_count": 24,
   "metadata": {},
   "outputs": [],
   "source": [
    "# Scale Variables (StandardScaler)\n",
    "sc = StandardScaler()\n",
    "\n",
    "# fit & transform scaler\n",
    "X_train = sc.fit_transform(X_train)\n",
    "\n",
    "# apply scaler to test set\n",
    "X_test = sc.transform(X_test)"
   ]
  },
  {
   "cell_type": "code",
   "execution_count": 25,
   "metadata": {},
   "outputs": [],
   "source": [
    "## To Tensor\n",
    "x_train_ts = torch.tensor(X_train, dtype=torch.float)\n",
    "x_test_ts = torch.tensor(X_test, dtype=torch.float)\n",
    "\n",
    "y_train_ts = torch.tensor(y_train, dtype=torch.long).view(-1,1)\n",
    "y_test_ts = torch.tensor(y_test, dtype=torch.long).view(-1,1)"
   ]
  },
  {
   "cell_type": "code",
   "execution_count": 26,
   "metadata": {},
   "outputs": [
    {
     "data": {
      "text/plain": [
       "(torch.Size([455, 30]), torch.Size([455, 1]))"
      ]
     },
     "execution_count": 26,
     "metadata": {},
     "output_type": "execute_result"
    }
   ],
   "source": [
    "x_train_ts.shape, y_train_ts.shape"
   ]
  },
  {
   "cell_type": "markdown",
   "metadata": {},
   "source": [
    "**Ihr Code ab hier**"
   ]
  },
  {
   "cell_type": "code",
   "execution_count": null,
   "metadata": {},
   "outputs": [],
   "source": []
  }
 ],
 "metadata": {
  "kernelspec": {
   "display_name": "Python 3 (ipykernel)",
   "language": "python",
   "name": "python3"
  },
  "language_info": {
   "codemirror_mode": {
    "name": "ipython",
    "version": 3
   },
   "file_extension": ".py",
   "mimetype": "text/x-python",
   "name": "python",
   "nbconvert_exporter": "python",
   "pygments_lexer": "ipython3",
   "version": "3.10.7"
  }
 },
 "nbformat": 4,
 "nbformat_minor": 4
}
